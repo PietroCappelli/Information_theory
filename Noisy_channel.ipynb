{
 "cells": [
  {
   "cell_type": "code",
   "execution_count": 19,
   "metadata": {},
   "outputs": [],
   "source": [
    "import matplotlib.pyplot as plt\n",
    "import numpy as np\n",
    "import pandas as pd\n",
    "import random"
   ]
  },
  {
   "cell_type": "code",
   "execution_count": 70,
   "metadata": {},
   "outputs": [
    {
     "name": "stdout",
     "output_type": "stream",
     "text": [
      "['a', 'b', 'c', 'd', 'e', 'f', 'g', 'h', 'i', 'j', 'k', 'l', 'm', 'n', 'o', 'p', 'q', 'r', 's', 't', 'u', 'v', 'w', 'x', 'y', 'z']\n"
     ]
    }
   ],
   "source": [
    "import string\n",
    "\n",
    "alphabet = list(string.ascii_lowercase)\n",
    "print(alphabet)"
   ]
  },
  {
   "cell_type": "markdown",
   "metadata": {},
   "source": [
    "## Noisy Typewriter"
   ]
  },
  {
   "cell_type": "code",
   "execution_count": 63,
   "metadata": {},
   "outputs": [
    {
     "data": {
      "text/plain": [
       "array(['c', 'i', 'a', 'o', ' ', 's', 'o', 'n', 'o', ' ', 'p', 'i', 'e',\n",
       "       't', 'r', 'o'], dtype='<U1')"
      ]
     },
     "execution_count": 63,
     "metadata": {},
     "output_type": "execute_result"
    }
   ],
   "source": [
    "mess = \"Ciao sono Pietro\"\n",
    "chars = np.array([char.lower() for char in mess])\n",
    "chars"
   ]
  },
  {
   "cell_type": "code",
   "execution_count": 61,
   "metadata": {},
   "outputs": [],
   "source": [
    "def Noisy_typew(enc_mess):\n",
    "    '''\n",
    "    ARGS:\n",
    "        - mess : message to encode (string of chars of a given length)\n",
    "    RETURNS:\n",
    "        - the decoded message with noise\n",
    "    '''\n",
    "    enc_mess = enc_mess.replace(\" \", \"\")\n",
    "    enc_mess = np.array([char.lower() for char in enc_mess])\n",
    "    dec_mess = []\n",
    "    for char in enc_mess:\n",
    "        idx = alphabet.index(char)\n",
    "        prob = random.randint(1,3)\n",
    "        if(prob == 1):\n",
    "            dec_char = alphabet[idx - 1]\n",
    "        if(prob == 2):\n",
    "            dec_char = alphabet[idx]\n",
    "        if(prob == 3):\n",
    "            dec_char = alphabet[idx + 1]\n",
    "    \n",
    "        dec_mess.append(dec_char)\n",
    "\n",
    "    return dec_mess\n"
   ]
  },
  {
   "cell_type": "code",
   "execution_count": 69,
   "metadata": {},
   "outputs": [
    {
     "name": "stdout",
     "output_type": "stream",
     "text": [
      "['c', 'i', 'a', 'o', 't', 'p', 'm', 'n', 'o', 'h', 'e', 't', 'r', 'p']\n"
     ]
    }
   ],
   "source": [
    "decoded = Noisy_typew(mess)\n",
    "print(decoded)"
   ]
  },
  {
   "cell_type": "code",
   "execution_count": 92,
   "metadata": {},
   "outputs": [
    {
     "name": "stdout",
     "output_type": "stream",
     "text": [
      "['b', 'e', 'h', 'k', 'n', 'q', 't', 'w', 'z']\n"
     ]
    }
   ],
   "source": [
    "alphabet.append(\" \")\n",
    "S = [alphabet[i+1] for i in range(len(alphabet)) if i%3==0]\n",
    "print(S)"
   ]
  },
  {
   "cell_type": "code",
   "execution_count": 95,
   "metadata": {},
   "outputs": [],
   "source": [
    "def Noisy_typew(enc_mess):\n",
    "\n",
    "    # enc_mess = enc_mess.replace(\" \", \"\")\n",
    "    enc_mess = np.array([char.lower() for char in enc_mess])\n",
    "    dec_mess = []\n",
    "    for char in enc_mess:\n",
    "        idx = alphabet.index(char)\n",
    "        prob = random.randint(1,3)\n",
    "        if(prob == 1):\n",
    "            dec_char = alphabet[idx - 1]\n",
    "        if(prob == 2):\n",
    "            dec_char = alphabet[idx]\n",
    "        if(prob == 3):\n",
    "            dec_char = alphabet[idx + 1]\n",
    "    \n",
    "        dec_mess.append(dec_char)\n",
    "\n",
    "    return dec_mess\n"
   ]
  },
  {
   "cell_type": "code",
   "execution_count": 96,
   "metadata": {},
   "outputs": [],
   "source": [
    "def nc_decoding(nc_mess):\n",
    "\n",
    "    dec_nc = []\n",
    "    for char in nc_mess:\n",
    "        idx = alphabet.index(char)\n",
    "\n",
    "        for i in range(len(S)):\n",
    "            idx_sx = i*3; idx_dx = idx_sx+2\n",
    "\n",
    "            if(idx>=idx_sx and idx<=idx_dx):\n",
    "                dec_char = S[i]\n",
    "\n",
    "        dec_nc.append(dec_char)\n",
    "\n",
    "    return dec_nc"
   ]
  },
  {
   "cell_type": "code",
   "execution_count": 99,
   "metadata": {},
   "outputs": [
    {
     "ename": "IndexError",
     "evalue": "list index out of range",
     "output_type": "error",
     "traceback": [
      "\u001b[1;31m---------------------------------------------------------------------------\u001b[0m",
      "\u001b[1;31mIndexError\u001b[0m                                Traceback (most recent call last)",
      "\u001b[1;32m<ipython-input-99-886a22902734>\u001b[0m in \u001b[0;36m<module>\u001b[1;34m\u001b[0m\n\u001b[0;32m      1\u001b[0m \u001b[0mmess_nc\u001b[0m  \u001b[1;33m=\u001b[0m \u001b[1;34m\"beh tennet\"\u001b[0m\u001b[1;33m\u001b[0m\u001b[1;33m\u001b[0m\u001b[0m\n\u001b[0;32m      2\u001b[0m \u001b[1;33m\u001b[0m\u001b[0m\n\u001b[1;32m----> 3\u001b[1;33m \u001b[0mdec_mess\u001b[0m \u001b[1;33m=\u001b[0m \u001b[0mNoisy_typew\u001b[0m\u001b[1;33m(\u001b[0m\u001b[0mmess_nc\u001b[0m\u001b[1;33m)\u001b[0m\u001b[1;33m\u001b[0m\u001b[1;33m\u001b[0m\u001b[0m\n\u001b[0m\u001b[0;32m      4\u001b[0m \u001b[1;33m\u001b[0m\u001b[0m\n\u001b[0;32m      5\u001b[0m \u001b[1;31m# print(\"messaggio da encodare:\", mess_nc)\u001b[0m\u001b[1;33m\u001b[0m\u001b[1;33m\u001b[0m\u001b[0m\n",
      "\u001b[1;32m<ipython-input-95-cec5e3d48050>\u001b[0m in \u001b[0;36mNoisy_typew\u001b[1;34m(enc_mess)\u001b[0m\n\u001b[0;32m     12\u001b[0m             \u001b[0mdec_char\u001b[0m \u001b[1;33m=\u001b[0m \u001b[0malphabet\u001b[0m\u001b[1;33m[\u001b[0m\u001b[0midx\u001b[0m\u001b[1;33m]\u001b[0m\u001b[1;33m\u001b[0m\u001b[1;33m\u001b[0m\u001b[0m\n\u001b[0;32m     13\u001b[0m         \u001b[1;32mif\u001b[0m\u001b[1;33m(\u001b[0m\u001b[0mprob\u001b[0m \u001b[1;33m==\u001b[0m \u001b[1;36m3\u001b[0m\u001b[1;33m)\u001b[0m\u001b[1;33m:\u001b[0m\u001b[1;33m\u001b[0m\u001b[1;33m\u001b[0m\u001b[0m\n\u001b[1;32m---> 14\u001b[1;33m             \u001b[0mdec_char\u001b[0m \u001b[1;33m=\u001b[0m \u001b[0malphabet\u001b[0m\u001b[1;33m[\u001b[0m\u001b[0midx\u001b[0m \u001b[1;33m+\u001b[0m \u001b[1;36m1\u001b[0m\u001b[1;33m]\u001b[0m\u001b[1;33m\u001b[0m\u001b[1;33m\u001b[0m\u001b[0m\n\u001b[0m\u001b[0;32m     15\u001b[0m \u001b[1;33m\u001b[0m\u001b[0m\n\u001b[0;32m     16\u001b[0m         \u001b[0mdec_mess\u001b[0m\u001b[1;33m.\u001b[0m\u001b[0mappend\u001b[0m\u001b[1;33m(\u001b[0m\u001b[0mdec_char\u001b[0m\u001b[1;33m)\u001b[0m\u001b[1;33m\u001b[0m\u001b[1;33m\u001b[0m\u001b[0m\n",
      "\u001b[1;31mIndexError\u001b[0m: list index out of range"
     ]
    }
   ],
   "source": [
    "mess_nc  = \"beh tennet\"\n",
    "\n",
    "dec_mess = Noisy_typew(mess_nc)\n",
    "\n",
    "# print(\"messaggio da encodare:\", mess_nc)\n",
    "# print(\"messaggio encodato:\", dec_mess)\n",
    "# print(\"messaggio decodato:\", nc_decoding(dec_mess))"
   ]
  },
  {
   "cell_type": "code",
   "execution_count": null,
   "metadata": {},
   "outputs": [],
   "source": []
  },
  {
   "cell_type": "code",
   "execution_count": null,
   "metadata": {},
   "outputs": [],
   "source": []
  }
 ],
 "metadata": {
  "kernelspec": {
   "display_name": "Python 3.9.13 64-bit (microsoft store)",
   "language": "python",
   "name": "python3"
  },
  "language_info": {
   "codemirror_mode": {
    "name": "ipython",
    "version": 3
   },
   "file_extension": ".py",
   "mimetype": "text/x-python",
   "name": "python",
   "nbconvert_exporter": "python",
   "pygments_lexer": "ipython3",
   "version": "3.9.13"
  },
  "orig_nbformat": 4,
  "vscode": {
   "interpreter": {
    "hash": "60560e0d6226cb5287d81368c04acd3a7e9c5751a6dd0763b56dc9cf4b259ada"
   }
  }
 },
 "nbformat": 4,
 "nbformat_minor": 2
}
