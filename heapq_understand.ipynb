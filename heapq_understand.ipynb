{
 "cells": [
  {
   "cell_type": "code",
   "execution_count": 3,
   "metadata": {},
   "outputs": [],
   "source": [
    "import heapq as hq"
   ]
  },
  {
   "cell_type": "code",
   "execution_count": 9,
   "metadata": {},
   "outputs": [],
   "source": [
    "h = []\n",
    "# we construct a list being a min heap\n",
    "hq.heappush(h,5) # is like append\n",
    "hq.heappush(h,2)\n",
    "hq.heappush(h,9)"
   ]
  },
  {
   "cell_type": "code",
   "execution_count": 10,
   "metadata": {},
   "outputs": [
    {
     "data": {
      "text/plain": [
       "2"
      ]
     },
     "execution_count": 10,
     "metadata": {},
     "output_type": "execute_result"
    }
   ],
   "source": [
    "# the first element will always be the smallest one\n",
    "h[0]"
   ]
  },
  {
   "cell_type": "code",
   "execution_count": 11,
   "metadata": {},
   "outputs": [
    {
     "data": {
      "text/plain": [
       "2"
      ]
     },
     "execution_count": 11,
     "metadata": {},
     "output_type": "execute_result"
    }
   ],
   "source": [
    "hq.heappop(h) #remove always the first element (the smallest)"
   ]
  },
  {
   "cell_type": "markdown",
   "metadata": {},
   "source": [
    "The list (or the priority queue) is NOT SORTED!! We know that the first element is the smallest one but we don't know anything about the rest "
   ]
  },
  {
   "cell_type": "code",
   "execution_count": 42,
   "metadata": {},
   "outputs": [
    {
     "data": {
      "text/plain": [
       "2"
      ]
     },
     "execution_count": 42,
     "metadata": {},
     "output_type": "execute_result"
    }
   ],
   "source": [
    "# we can start from a list and convert it into a min heap\n",
    "h = [2,5,10]\n",
    "hq.heapify(h)\n",
    "\n",
    "h[0]"
   ]
  },
  {
   "cell_type": "code",
   "execution_count": 43,
   "metadata": {},
   "outputs": [
    {
     "name": "stdout",
     "output_type": "stream",
     "text": [
      "[2, 5, 10]\n",
      "[2, 5, 10]\n",
      "[3, 5, 10]\n"
     ]
    }
   ],
   "source": [
    "hq.heappushpop(h, 1) #append 1 and remove the smallest\n",
    "print(h)\n",
    "hq.heappushpop(h, 2)\n",
    "print(h)\n",
    "hq.heappushpop(h, 3)\n",
    "print(h)"
   ]
  },
  {
   "cell_type": "markdown",
   "metadata": {},
   "source": [
    "for the max heap we simply to multiply for -1 everything"
   ]
  },
  {
   "cell_type": "code",
   "execution_count": 45,
   "metadata": {},
   "outputs": [
    {
     "data": {
      "text/plain": [
       "9"
      ]
     },
     "execution_count": 45,
     "metadata": {},
     "output_type": "execute_result"
    }
   ],
   "source": [
    "h = []\n",
    "hq.heappush(h,-5) \n",
    "hq.heappush(h,-2)\n",
    "hq.heappush(h,-9)\n",
    "\n",
    "-hq.heappop(h) # maximum"
   ]
  },
  {
   "cell_type": "code",
   "execution_count": 46,
   "metadata": {},
   "outputs": [
    {
     "data": {
      "text/plain": [
       "(25, 'Cara')"
      ]
     },
     "execution_count": 46,
     "metadata": {},
     "output_type": "execute_result"
    }
   ],
   "source": [
    "employees = [(45, \"John\"),(30, \"Bill\"),(25, \"Cara\"),(30, \"Ali\")]\n",
    "hq.heapify(employees)\n",
    "\n",
    "hq.heappop(employees) #first it will remove the youngest one"
   ]
  },
  {
   "cell_type": "code",
   "execution_count": 47,
   "metadata": {},
   "outputs": [
    {
     "data": {
      "text/plain": [
       "(30, 'Ali')"
      ]
     },
     "execution_count": 47,
     "metadata": {},
     "output_type": "execute_result"
    }
   ],
   "source": [
    "hq.heappop(employees) #we have two people who are 30"
   ]
  },
  {
   "cell_type": "markdown",
   "metadata": {},
   "source": [
    "## Huffman tree"
   ]
  },
  {
   "cell_type": "code",
   "execution_count": 75,
   "metadata": {},
   "outputs": [
    {
     "name": "stdout",
     "output_type": "stream",
     "text": [
      "f -> 0\n",
      "c -> 100\n",
      "d -> 101\n",
      "a -> 1100\n",
      "b -> 1101\n",
      "e -> 111\n"
     ]
    }
   ],
   "source": [
    "# A Huffman Tree Node\n",
    "import heapq\n",
    "\n",
    "class node:\n",
    "\tdef __init__(self, freq, symbol, left=None, right=None):\n",
    "\t\t# frequency of symbol\n",
    "\t\tself.freq = freq\n",
    "\n",
    "\t\t# symbol name (character)\n",
    "\t\tself.symbol = symbol\n",
    "\n",
    "\t\t# node left of current node\n",
    "\t\tself.left = left\n",
    "\n",
    "\t\t# node right of current node\n",
    "\t\tself.right = right\n",
    "\n",
    "\t\t# tree direction (0/1)\n",
    "\t\tself.huff = ''\n",
    "\t\t\n",
    "\tdef __lt__(self, nxt):\n",
    "\t\treturn self.freq < nxt.freq\n",
    "\t\t\n",
    "\n",
    "# utility function to print huffman codes for all symbols in the newly created Huffman tree\n",
    "def printNodes(node, val=''):\n",
    "\t\n",
    "\t# huffman code for current node\n",
    "\tnewVal = val + str(node.huff)\n",
    "\n",
    "\t# if node is not an edge node\n",
    "\t# then traverse inside it\n",
    "\tif(node.left):\n",
    "\t\tprintNodes(node.left, newVal)\n",
    "\tif(node.right):\n",
    "\t\tprintNodes(node.right, newVal)\n",
    "\n",
    "\t\t# if node is edge node then\n",
    "\t\t# display its huffman code\n",
    "\tif(not node.left and not node.right):\n",
    "\t\tprint(f\"{node.symbol} -> {newVal}\")\n",
    "\n",
    "\n",
    "\n",
    "# characters for huffman tree\n",
    "chars = ['a', 'b', 'c', 'd', 'e', 'f']\n",
    "# frequency of characters\n",
    "freq = [ 5, 9, 12, 13, 16, 45]\n",
    "\n",
    "# list containing unused nodes\n",
    "nodes = []\n",
    "\n",
    "\"\"\"STEP 1\"\"\"\n",
    "# converting characters and frequencies into huffman tree nodes\n",
    "for x in range(len(chars)):\n",
    "\theapq.heappush(nodes, node(freq[x], chars[x]))\n",
    "\n",
    "\"\"\"STEP 2\"\"\"\n",
    "while len(nodes) > 1:\n",
    "\t\n",
    "\t# sort all the nodes in ascending order based on their frequency\n",
    "\t# select and remove the two smalles frequencies\n",
    "\tleft = heapq.heappop(nodes)\n",
    "\tright = heapq.heappop(nodes)\n",
    "\n",
    "\t# assign directional value to these nodes\n",
    "\tleft.huff = 0\n",
    "\tright.huff = 1\n",
    "\n",
    "#\"\"\"STEP 3\"\"\"\n",
    "    # combine the 2 smallest nodes to create new node as their parent\n",
    "\tnewNode = node(left.freq+right.freq, left.symbol+right.symbol, left, right)\n",
    "\n",
    "    # add the new node\n",
    "\theapq.heappush(nodes, newNode)\n",
    "\n",
    "# Huffman Tree is ready!\n",
    "printNodes(nodes[0])\n"
   ]
  },
  {
   "cell_type": "markdown",
   "metadata": {},
   "source": [
    "Adatta al caso del esercizio e puoi togliere il printNodes e fare un return del codice tipo"
   ]
  },
  {
   "cell_type": "code",
   "execution_count": null,
   "metadata": {},
   "outputs": [],
   "source": []
  }
 ],
 "metadata": {
  "kernelspec": {
   "display_name": "Python 3.9.13 64-bit (microsoft store)",
   "language": "python",
   "name": "python3"
  },
  "language_info": {
   "codemirror_mode": {
    "name": "ipython",
    "version": 3
   },
   "file_extension": ".py",
   "mimetype": "text/x-python",
   "name": "python",
   "nbconvert_exporter": "python",
   "pygments_lexer": "ipython3",
   "version": "3.9.13"
  },
  "orig_nbformat": 4,
  "vscode": {
   "interpreter": {
    "hash": "60560e0d6226cb5287d81368c04acd3a7e9c5751a6dd0763b56dc9cf4b259ada"
   }
  }
 },
 "nbformat": 4,
 "nbformat_minor": 2
}
