{
 "cells": [
  {
   "cell_type": "code",
   "execution_count": 1,
   "metadata": {},
   "outputs": [],
   "source": [
    "import matplotlib.pyplot as plt\n",
    "import numpy as np\n",
    "import pandas as pd\n",
    "import random\n",
    "from scipy.special import gamma\n",
    "import scipy"
   ]
  },
  {
   "cell_type": "code",
   "execution_count": 2,
   "metadata": {},
   "outputs": [
    {
     "data": {
      "text/plain": [
       "(10000,)"
      ]
     },
     "execution_count": 2,
     "metadata": {},
     "output_type": "execute_result"
    }
   ],
   "source": [
    "data = np.load('..\\data.npy')\n",
    "data.shape"
   ]
  },
  {
   "cell_type": "code",
   "execution_count": 3,
   "metadata": {},
   "outputs": [
    {
     "data": {
      "image/png": "[encoded data removed]",
      "text/plain": [
       "<Figure size 864x576 with 1 Axes>"
      ]
     },
     "metadata": {
      "needs_background": "light"
     },
     "output_type": "display_data"
    }
   ],
   "source": [
    "fig, ax = plt.subplots(1, 1, figsize=(12, 8))\n",
    "ax.hist(data, bins='fd', density=True, alpha = 0.8, edgecolor='black', zorder = 2)\n",
    "ax.grid(zorder = 1)\n",
    "ax.minorticks_on()\n",
    "ax.set_title('Data PDF', fontsize = 15)\n",
    "ax.set_ylabel('PDF', fontsize = 12)\n",
    "plt.show()"
   ]
  },
  {
   "cell_type": "markdown",
   "metadata": {},
   "source": [
    "### Priors"
   ]
  },
  {
   "cell_type": "code",
   "execution_count": 4,
   "metadata": {},
   "outputs": [],
   "source": [
    "def gaussian(x,mu=4,std=2):\n",
    "    '''I have altready put the default values of alpha and beta'''\n",
    "\n",
    "    prior = scipy.stats.norm.pdf(x, loc=mu, scale=std)\n",
    "\n",
    "    return prior\n",
    "\n",
    "def inverse_gamma(x,alpha=2,beta=1):\n",
    "    '''I have altready put the default values of alpha and beta'''\n",
    "\n",
    "    f = (beta**alpha / gamma(alpha)) * (1/x)**(alpha + 1) * np.exp(-beta/x)\n",
    "    return f"
   ]
  },
  {
   "cell_type": "markdown",
   "metadata": {},
   "source": [
    "## Metripolis Algorithm"
   ]
  },
  {
   "cell_type": "code",
   "execution_count": 5,
   "metadata": {},
   "outputs": [],
   "source": [
    "def log_likelihood(x, mu, sigma):\n",
    "    #return np.sum(np.log( (1/(np.sqrt(2*np.pi*sigma**2))) * np.exp(-((x-mu)**2)/(2*sigma**2)) ) )\n",
    "    \n",
    "    likelihood = scipy.stats.norm.pdf(x, loc=mu, scale=sigma)\n",
    "    return np.sum(np.log(likelihood))\n",
    "\n",
    "def prior_mu(mu, m , s):\n",
    "    #return ((1/(np.sqrt(2*np.pi*s**2))) * np.exp(-((x-m)**2)/(2*s**2)))\n",
    "    \n",
    "    prior = scipy.stats.norm.pdf(mu, loc=m, scale=s)\n",
    "    return prior\n",
    "\n",
    "def prior_sigma(x, alpha, beta):\n",
    "    prior = (beta**(alpha) / scipy.special.gamma(alpha)) * (1 / x**(alpha + 1)) * np.exp(-beta / x) \n",
    "    return prior"
   ]
  },
  {
   "cell_type": "markdown",
   "metadata": {},
   "source": [
    "### Try something more"
   ]
  },
  {
   "cell_type": "code",
   "execution_count": 6,
   "metadata": {},
   "outputs": [],
   "source": [
    "import plotly.figure_factory as ff\n",
    "import plotly.express as px\n",
    "from ipywidgets import VBox, HBox, Output, Button, IntText, Label, FloatText\n",
    "\n",
    "import matplotlib.pyplot as plt\n",
    "from matplotlib.transforms import Affine2D\n",
    "from matplotlib.collections import PathCollection\n",
    "import matplotlib.animation as animation"
   ]
  },
  {
   "cell_type": "code",
   "execution_count": 12,
   "metadata": {},
   "outputs": [],
   "source": [
    "def run_mcmc(caller):\n",
    "    out.clear_output()\n",
    "    display_label.value = \"Runnin MCMC\"\n",
    "\n",
    "    burnin = burin_input.value  # number of burn-in iterations\n",
    "    # lag = lag_input.value  # iterations between successive samples\n",
    "    nsamp = nsamp_input.value # number of samples to draw\n",
    "    mu = mu_start_input.value # start point\n",
    "    sigma = sigma_start_input.value # start point\n",
    "    tau = autocorr_time_input.value\n",
    "   \n",
    "    # nsamp = 1000; mu0=2; sigma0=1\n",
    "   \n",
    "    Mu = np.zeros((nsamp,1)) \n",
    "    Sigma = np.zeros((nsamp,1)) # samples drawn from the Markov chain\n",
    "    # acc = np.array((0, 0))  # vector to track the acceptance rate\n",
    "    acc = 0  # vector to track the acceptance rate\n",
    "    \n",
    "    # def log_likelihood(x, mu, sigma):\n",
    "    \n",
    "    #     likelihood = scipy.stats.norm.pdf(x, loc=mu, scale=sigma)\n",
    "    #     return np.sum(np.log(likelihood))\n",
    "\n",
    "    def MHstep(data, mu0, sigma0, tau=tau):\n",
    "        # cov = tau * np.identity(2) # covariance matrix of the normal ditr for the proposals\n",
    "        # mu_new, sigma_new = np.random.multivariate_normal(mean=(mu0, sigma0), cov=tau**2 * np.identity(2)) #generate from 2D normal distribution\n",
    "        \n",
    "        mu_new = np.random.normal(loc=mu0, scale=0.1)\n",
    "        sigma_new = np.random.normal(loc=sigma0, scale=0.1)\n",
    "        \n",
    "        # acceptance_prob = np.exp(log_posterior(data, mu_new, sigma_new) - log_posterior(data, mu0, sigma0))\n",
    "        \n",
    "        #posterior with the proposal values\n",
    "        propos_post = log_likelihood(data, mu_new, sigma_new) + np.log(gaussian(mu_new)) + np.log(inverse_gamma(sigma_new))\n",
    "        #posterior with the current values\n",
    "        current_post =  log_likelihood(data, mu0, sigma0) + np.log(gaussian(mu0)) + np.log(inverse_gamma(sigma0))\n",
    "    \n",
    "        acceptance_prob = np.min([1 , np.exp( propos_post - current_post) ])\n",
    "        \n",
    "        u = np.random.rand() # uniform random number\n",
    "        if u <= acceptance_prob: # if accepted\n",
    "            mu = mu_new ; sigma = sigma_new # update with new values\n",
    "            a = 1 # acceptance\n",
    "        else: # if rejected\n",
    "            mu = mu0 ; sigma = sigma0 # update with the old values\n",
    "            a = 0 # rejection\n",
    "        return mu, sigma, a\n",
    "\n",
    "    # MC routine\n",
    "\n",
    "    for i in range(burnin):\n",
    "        mu, sigma, a = MHstep(data, mu, sigma)\n",
    "        # acc = acc + np.array((a, 0)) # track accept-reject status\n",
    "        acc = acc + a # track accept-reject status\n",
    "\n",
    "    for i in range(nsamp):\n",
    "        mu, sigma, a = MHstep(data, mu, sigma)\n",
    "        # acc = acc + np.array((a, 1)) # track accept-reject status\n",
    "        acc = acc + a # track accept-reject status\n",
    "\n",
    "        Mu[i] = mu; \n",
    "        Sigma[i] = sigma\n",
    "\n",
    "    df = pd.DataFrame.from_dict({'mu':[Mu], 'sigma':[Sigma]})\n",
    "    \n",
    "\n",
    "    # display_label.value = 'Average Acceptance: ' + str(round(acc[0] / acc[1],2)) + ';   ' + 'Mean_mu=' + str(round(np.mean(Mu), 3)) +';   ' +'Mean_sigma=' + str(round(np.mean(Sigma), 3))\n",
    "    \n",
    "    display_label.value = 'Avg Accept: ' + str(round(acc/nsamp, 3)) + ';   ' + 'Mean_mu=' + str(round(np.mean(Mu), 4)) +';   ' +'Mean_sigma=' + str(round(np.mean(Sigma), 4))\n",
    "    \n",
    "\n",
    "    with out:\n",
    "        fig, axs = plt.subplots(2, 2, figsize=(20,20))\n",
    "\n",
    "        # axs[0,0].hist(df['mu'].values, bins=int(np.sqrt(len(Mu))))\n",
    "        axs[0,0].hist(df['mu'].values, bins='fd')\n",
    "        axs[0,1].plot(df['mu'].squeeze())\n",
    "\n",
    "        # axs[1,0].hist(df['sigma'].values, bins=int(np.sqrt(len(Mu))))\n",
    "        axs[1,0].hist(df['sigma'].values, bins='fd')\n",
    "        axs[1,1].plot(df['sigma'].squeeze())\n",
    "\n",
    "        r = Affine2D().rotate_deg(90)\n",
    "\n",
    "        fig = plt.gcf()\n",
    "        fig.set_size_inches(10, 10)\n",
    "\n",
    "        plt.show()\n",
    "\n",
    "\n",
    "    print(str(round(np.mean(Mu), 3)), str(round(np.mean(Sigma), 3)))        \n"
   ]
  },
  {
   "cell_type": "code",
   "execution_count": 13,
   "metadata": {},
   "outputs": [
    {
     "data": {
      "application/vnd.jupyter.widget-view+json": {
       "model_id": "32710ec558e9404c83b1dddd4674ab58",
       "version_major": 2,
       "version_minor": 0
      },
      "text/plain": [
       "HBox(children=(VBox(children=(HBox(children=(Button(description='Run MCMC', style=ButtonStyle()), Label(value=…"
      ]
     },
     "metadata": {},
     "output_type": "display_data"
    },
    {
     "name": "stderr",
     "output_type": "stream",
     "text": [
      "<ipython-input-12-3fd5afd3bf36>:38: RuntimeWarning: overflow encountered in exp\n",
      "  acceptance_prob = np.min([1 , np.exp( propos_post - current_post) ])\n"
     ]
    },
    {
     "name": "stdout",
     "output_type": "stream",
     "text": [
      "2.303 0.555\n"
     ]
    }
   ],
   "source": [
    "%matplotlib inline\n",
    "run_button = Button(description = 'Run MCMC')\n",
    "burin_input = IntText(value=0, description = 'Burn-in')\n",
    "nsamp_input = IntText(value=1000, description ='Num Samples')\n",
    "mu_start_input = FloatText(value='2', description ='mu Starting Value')\n",
    "sigma_start_input = FloatText(value='1', description ='sigma Starting Value')\n",
    "autocorr_time_input = FloatText(value='0.5', description ='Tau Starting Value')\n",
    "\n",
    "display_label  = Label(value = 'Ready to go!')\n",
    "    \n",
    "out = Output()\n",
    "\n",
    "run_button.on_click(run_mcmc)\n",
    "\n",
    "all_widgets = HBox([VBox([HBox([run_button, display_label]) ,\n",
    "                    burin_input,\n",
    "                    nsamp_input,\n",
    "                    mu_start_input,\n",
    "                    sigma_start_input,\n",
    "                    autocorr_time_input]),\n",
    "                    out])\n",
    "\n",
    "display(all_widgets)\n"
   ]
  },
  {
   "cell_type": "code",
   "execution_count": null,
   "metadata": {},
   "outputs": [],
   "source": []
  }
 ],
 "metadata": {
  "kernelspec": {
   "display_name": "Python 3.9.13 64-bit (microsoft store)",
   "language": "python",
   "name": "python3"
  },
  "language_info": {
   "codemirror_mode": {
    "name": "ipython",
    "version": 3
   },
   "file_extension": ".py",
   "mimetype": "text/x-python",
   "name": "python",
   "nbconvert_exporter": "python",
   "pygments_lexer": "ipython3",
   "version": "3.9.13 (tags/v3.9.13:6de2ca5, May 17 2022, 16:36:42) [MSC v.1929 64 bit (AMD64)]"
  },
  "orig_nbformat": 4,
  "vscode": {
   "interpreter": {
    "hash": "60560e0d6226cb5287d81368c04acd3a7e9c5751a6dd0763b56dc9cf4b259ada"
   }
  }
 },
 "nbformat": 4,
 "nbformat_minor": 2
}
