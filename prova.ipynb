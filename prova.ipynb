{
 "cells": [
  {
   "cell_type": "code",
   "execution_count": 2,
   "id": "israeli-vampire",
   "metadata": {},
   "outputs": [],
   "source": [
    "import numpy as np\n",
    "import matplotlib.pyplot as plt"
   ]
  },
  {
   "cell_type": "code",
   "execution_count": 3,
   "id": "french-withdrawal",
   "metadata": {},
   "outputs": [
    {
     "name": "stdout",
     "output_type": "stream",
     "text": [
      "106128\n"
     ]
    }
   ],
   "source": [
    "txt_file = open('text.txt', \"r\")\n",
    "text = txt_file.read()\n",
    "text = [c.lower() for c in text]\n",
    "N = len(text)\n",
    "\n",
    "print(N)"
   ]
  },
  {
   "cell_type": "code",
   "execution_count": 4,
   "id": "fresh-excerpt",
   "metadata": {},
   "outputs": [
    {
     "name": "stdout",
     "output_type": "stream",
     "text": [
      "39\n"
     ]
    }
   ],
   "source": [
    "characters, occurrences = np.unique(text, return_counts=True)\n",
    "n = len(characters)\n",
    "print(n)\n",
    "probs = occurrences/N"
   ]
  },
  {
   "cell_type": "code",
   "execution_count": 5,
   "id": "interim-argument",
   "metadata": {},
   "outputs": [],
   "source": [
    "def entropy(p):\n",
    "    idx = np.where(p>0)\n",
    "    h=-np.sum(np.multiply(p[idx],np.log2(p[idx])))\n",
    "    return h\n",
    "\n",
    "def entropy_emp(p,n):\n",
    "    idx = np.where(p>0)\n",
    "    h=-np.sum(np.multiply(p[idx],np.log2(p[idx])))\n",
    "    eh=np.sqrt(np.sum(np.multiply(np.square(np.log2(np.e*p)), np.multiply(p,1-p))/n)) \n",
    "    return h,eh\n",
    "    \n",
    "    \n",
    "def KLdivergence(p,q):\n",
    "    idx = np.where(p>0)\n",
    "    return np.sum(np.nan_to_num(np.multiply(p[idx],np.log2(p[idx]))))-\\\n",
    "            np.sum(np.nan_to_num(np.multiply(p[idx],np.log2(q[idx]))))\n",
    "\n",
    "\n",
    "def mutual_information(pxy):\n",
    "    px=np.sum(pxy,axis=0)\n",
    "    py=np.sum(pxy,axis=1)\n",
    "    hx=entropy(px)\n",
    "    hy=entropy(py)\n",
    "    hxy=entropy(pxy.reshape(-1))\n",
    "    MI=hx+hy-hxy\n",
    "    hxcy=hx-MI\n",
    "    hycx=hy-MI\n",
    "    return MI,hx,hy\n",
    "\n"
   ]
  },
  {
   "cell_type": "code",
   "execution_count": 6,
   "id": "sunrise-shore",
   "metadata": {},
   "outputs": [
    {
     "name": "stdout",
     "output_type": "stream",
     "text": [
      "4.229585766843208 0.009520398469452756\n"
     ]
    }
   ],
   "source": [
    "Hall, EHall = entropy_emp(probs,N)\n",
    "print(Hall,EHall)"
   ]
  },
  {
   "cell_type": "code",
   "execution_count": 7,
   "id": "entertaining-guest",
   "metadata": {},
   "outputs": [
    {
     "name": "stdout",
     "output_type": "stream",
     "text": [
      "['\\n\\n' '\\n ' '\\na' '\\nb' '\\nc' '\\nf' '\\ng' '\\ni' '\\nj' '\\nm' '\\np' '\\ns'\n",
      " '\\nt' ' \\n' '  ' ' &' \" '\" ' -' ' [' ' a' ' b' ' c' ' d' ' e' ' f' ' g'\n",
      " ' h' ' i' ' j' ' k' ' l' ' m' ' n' ' o' ' p' ' q' ' r' ' s' ' t' ' u'\n",
      " ' v' ' w' ' y' ' z' '!\\n' '! ' \"!'\" '!-' '& ' \"'\\n\" \"' \" \"'-\" \"'b\" \"'c\"\n",
      " \"'d\" \"'e\" \"'f\" \"'g\" \"'h\" \"'l\" \"'m\" \"'n\" \"'r\" \"'s\" \"'t\" \"'w\" ',\\n' ', '\n",
      " \",'\" ',-' '-\\n' '- ' \"-'\" '--' '-a' '-b' '-c' '-d' '-e' '-f' '-g' '-h'\n",
      " '-i' '-k' '-l' '-m' '-n' '-o' '-p' '-r' '-s' '-t' '-v' '-w' '.\\n' '. '\n",
      " \".'\" '.-' ':\\n' ': ' ':-' ';\\n' '; ' \";'\" ';-' '?\\n' '? ' '?-' '[a' '[d'\n",
      " '[s' '[t' '[w' ']\\n' '] ' 'a\\n' 'a ' 'a!' 'a,' 'a-' 'a.' 'a:' 'a;' 'a?'\n",
      " 'a]' 'ab' 'ac' 'ad' 'ae' 'af' 'ag' 'ah' 'ai' 'aj' 'ak' 'al' 'am' 'an'\n",
      " 'ap' 'ar' 'as' 'at' 'au' 'av' 'aw' 'ax' 'ay' 'az' 'b\\n' 'b ' \"b'\" 'b,'\n",
      " 'ba' 'bb' 'bd' 'be' 'bh' 'bi' 'bj' 'bl' 'bo' 'br' 'bs' 'bt' 'bu' 'by'\n",
      " 'c\\n' 'c ' 'c!' 'c,' 'c.' 'c:' 'ca' 'cc' 'ce' 'ch' 'ci' 'ck' 'cl' 'co'\n",
      " 'cq' 'cr' 'cs' 'ct' 'cu' 'cy' 'd\\n' 'd ' 'd!' \"d'\" 'd,' 'd-' 'd.' 'd:'\n",
      " 'd;' 'd?' 'da' 'dd' 'de' 'df' 'dg' 'di' 'dl' 'dm' 'dn' 'do' 'dr' 'ds'\n",
      " 'dt' 'du' 'dv' 'dw' 'dy' 'e\\n' 'e ' 'e!' \"e'\" 'e,' 'e-' 'e.' 'e:' 'e;'\n",
      " 'e?' 'e]' 'ea' 'eb' 'ec' 'ed' 'ee' 'ef' 'eg' 'eh' 'ei' 'ej' 'ek' 'el'\n",
      " 'em' 'en' 'eo' 'ep' 'eq' 'er' 'es' 'et' 'eu' 'ev' 'ew' 'ex' 'ey' 'ez'\n",
      " 'f\\n' 'f ' 'f!' \"f'\" 'f,' 'f-' 'f.' 'f:' 'f;' 'f?' 'fa' 'fe' 'ff' 'fi'\n",
      " 'fl' 'fn' 'fo' 'fr' 'fs' 'ft' 'fu' 'fy' 'g\\n' 'g ' 'g!' \"g'\" 'g,' 'g-'\n",
      " 'g.' 'g:' 'g;' 'g?' 'ga' 'gd' 'ge' 'gg' 'gh' 'gi' 'gl' 'gn' 'go' 'gr'\n",
      " 'gs' 'gt' 'gu' 'gy' 'h\\n' 'h ' 'h!' \"h'\" 'h,' 'h-' 'h.' 'h:' 'h;' 'h?'\n",
      " 'ha' 'he' 'hf' 'hi' 'hl' 'hn' 'ho' 'hq' 'hr' 'hs' 'ht' 'hu' 'hy' 'i\\n'\n",
      " 'i ' \"i'\" 'i,' 'i-' 'i.' 'i:' 'i;' 'i?' 'ia' 'ib' 'ic' 'id' 'ie' 'if'\n",
      " 'ig' 'ii' 'ik' 'il' 'im' 'in' 'io' 'ip' 'iq' 'ir' 'is' 'it' 'iu' 'iv'\n",
      " 'ix' 'iz' 'ja' 'je' 'ji' 'jo' 'ju' 'k\\n' 'k ' 'k!' \"k'\" 'k,' 'k-' 'k.'\n",
      " 'k:' 'k;' 'k?' 'ka' 'ke' 'kf' 'ki' 'kl' 'kn' 'ks' 'ku' 'kw' 'ky' 'l\\n'\n",
      " 'l ' 'l!' \"l'\" 'l,' 'l-' 'l.' 'l:' 'l;' 'l?' 'l]' 'la' 'lb' 'lc' 'ld'\n",
      " 'le' 'lf' 'lg' 'li' 'lk' 'll' 'lm' 'ln' 'lo' 'lp' 'ls' 'lt' 'lu' 'lv'\n",
      " 'lw' 'ly' 'm\\n' 'm ' 'm!' \"m'\" 'm,' 'm-' 'm.' 'm:' 'm;' 'm?' 'ma' 'mb'\n",
      " 'me' 'mf' 'mi' 'ml' 'mm' 'mn' 'mo' 'mp' 'ms' 'mu' 'my' 'n\\n' 'n ' 'n!'\n",
      " \"n'\" 'n,' 'n-' 'n.' 'n:' 'n;' 'n?' 'n]' 'na' 'nb' 'nc' 'nd' 'ne' 'nf'\n",
      " 'ng' 'nh' 'ni' 'nj' 'nk' 'nl' 'nm' 'nn' 'no' 'np' 'nq' 'nr' 'ns' 'nt'\n",
      " 'nu' 'nv' 'nw' 'ny' 'nz' 'o\\n' 'o ' 'o!' \"o'\" 'o,' 'o-' 'o.' 'o:' 'o;'\n",
      " 'o?' 'o]' 'oa' 'ob' 'oc' 'od' 'oe' 'of' 'og' 'oh' 'oi' 'oj' 'ok' 'ol'\n",
      " 'om' 'on' 'oo' 'op' 'or' 'os' 'ot' 'ou' 'ov' 'ow' 'ox' 'oy' 'oz' 'p\\n'\n",
      " 'p ' 'p!' \"p'\" 'p,' 'p-' 'p.' 'p:' 'p;' 'p?' 'pa' 'pb' 'pe' 'ph' 'pi'\n",
      " 'pl' 'pm' 'po' 'pp' 'pr' 'ps' 'pt' 'pu' 'py' 'qu' 'r\\n' 'r ' 'r!' \"r'\"\n",
      " 'r,' 'r-' 'r.' 'r:' 'r;' 'r?' 'ra' 'rb' 'rc' 'rd' 're' 'rf' 'rg' 'ri'\n",
      " 'rk' 'rl' 'rm' 'rn' 'ro' 'rp' 'rr' 'rs' 'rt' 'ru' 'rv' 'rw' 'ry' 'rz'\n",
      " 's\\n' 's ' 's!' \"s'\" 's,' 's-' 's.' 's:' 's;' 's?' 'sa' 'sb' 'sc' 'sd'\n",
      " 'se' 'sg' 'sh' 'si' 'sk' 'sl' 'sm' 'sn' 'so' 'sp' 'ss' 'st' 'su' 'sw'\n",
      " 'sy' 't\\n' 't ' 't!' \"t'\" 't,' 't-' 't.' 't:' 't;' 't?' 'ta' 'tc' 'te'\n",
      " 'tf' 'th' 'ti' 'tl' 'tn' 'to' 'tr' 'ts' 'tt' 'tu' 'tw' 'ty' 'u\\n' 'u '\n",
      " 'u!' \"u'\" 'u,' 'u-' 'u.' 'u:' 'u;' 'u?' 'ua' 'ub' 'uc' 'ud' 'ue' 'uf'\n",
      " 'ug' 'ui' 'uk' 'ul' 'um' 'un' 'uo' 'up' 'ur' 'us' 'ut' 'uy' 'v\\n' 'va'\n",
      " 've' 'vi' 'vo' 'vu' 'vy' 'w\\n' 'w ' 'w!' \"w'\" 'w,' 'w-' 'w.' 'w:' 'w;'\n",
      " 'w?' 'wa' 'we' 'wh' 'wi' 'wl' 'wn' 'wo' 'wr' 'ws' 'wu' 'x\\n' 'x ' \"x'\"\n",
      " 'x,' 'x;' 'xa' 'xc' 'xe' 'xi' 'xp' 'xt' 'y\\n' 'y ' 'y!' \"y'\" 'y,' 'y-'\n",
      " 'y.' 'y:' 'y;' 'y?' 'y]' 'ya' 'yc' 'ye' 'yi' 'yl' 'ym' 'yo' 'yr' 'ys'\n",
      " 'yt' 'za' 'ze' 'zo' 'zu' 'zy']\n"
     ]
    }
   ],
   "source": [
    "L=100\n",
    "auto_mi = np.zeros(L)\n",
    "\n",
    "\n",
    "for l in range(1,L+1):\n",
    "    text1=text[:-l]\n",
    "    text2=text[l:]\n",
    "    text3=[text1[i]+text2[i] for i in range(N-l)]\n",
    "    \n",
    "    character_pairs, occurrences_pairs_nonzero = np.unique(text3, return_counts=True)\n",
    "    \n",
    "    occurrences_pairs=np.zeros((n,n))\n",
    "    \n",
    "    for i in range(n):\n",
    "        ci=characters[i]\n",
    "        for j in range(n):\n",
    "            cj=characters[j]\n",
    "            c=ci+cj\n",
    "            idx = np.where(character_pairs==c)[0]\n",
    "            if len(idx)>0:\n",
    "                occurrences_pairs[i,j]=np.squeeze(occurrences_pairs_nonzero[idx])\n",
    "\n",
    "    occurrences_pairs=occurrences_pairs/(N-l)\n",
    "    \n",
    "  \n",
    "    auto_mi[l-1],hx,hy = mutual_information(occurrences_pairs)\n"
   ]
  },
  {
   "cell_type": "code",
   "execution_count": 8,
   "id": "jewish-laugh",
   "metadata": {
    "scrolled": true
   },
   "outputs": [
    {
     "name": "stdout",
     "output_type": "stream",
     "text": [
      "0.0\n",
      "0.0\n",
      "0.0\n"
     ]
    },
    {
     "data": {
      "image/png": "[encoded data removed]",
      "text/plain": [
       "<Figure size 432x288 with 1 Axes>"
      ]
     },
     "metadata": {
      "needs_background": "light"
     },
     "output_type": "display_data"
    }
   ],
   "source": [
    "plt.plot(auto_mi)\n",
    "plt.xticks(size=15)\n",
    "plt.yticks(size=15)\n",
    "plt.xlabel(\"l\",size=15)\n",
    "plt.ylabel(\"MI\",size=15)\n",
    "plt.xlim(0,20)\n",
    "plt.grid()\n",
    "\n",
    "print(auto_mi[0])\n",
    "print(auto_mi[1])\n",
    "print(auto_mi[2])"
   ]
  },
  {
   "cell_type": "code",
   "execution_count": 9,
   "id": "worthy-strengthening",
   "metadata": {},
   "outputs": [],
   "source": [
    "text_subsampled = [text[i] for i in range(1,N,10)]"
   ]
  },
  {
   "cell_type": "code",
   "execution_count": 10,
   "id": "engaged-manhattan",
   "metadata": {},
   "outputs": [
    {
     "name": "stdout",
     "output_type": "stream",
     "text": [
      "4.229585766843208 4.22939412884961 0.009520398469452756 0.030112454202498615\n"
     ]
    }
   ],
   "source": [
    "characters_sub, occurrences_sub = np.unique(text_subsampled, return_counts=True)\n",
    "Nsub = len(text_subsampled)\n",
    "probs = occurrences_sub/Nsub\n",
    "\n",
    "\n",
    "Hsub, EHsub = entropy_emp(probs,Nsub)\n",
    "print(Hall,Hsub,EHall,EHsub)"
   ]
  },
  {
   "cell_type": "code",
   "execution_count": null,
   "id": "different-somerset",
   "metadata": {},
   "outputs": [],
   "source": []
  }
 ],
 "metadata": {
  "kernelspec": {
   "display_name": "Python 3.9.13 64-bit (microsoft store)",
   "language": "python",
   "name": "python3"
  },
  "language_info": {
   "codemirror_mode": {
    "name": "ipython",
    "version": 3
   },
   "file_extension": ".py",
   "mimetype": "text/x-python",
   "name": "python",
   "nbconvert_exporter": "python",
   "pygments_lexer": "ipython3",
   "version": "3.9.13"
  },
  "vscode": {
   "interpreter": {
    "hash": "60560e0d6226cb5287d81368c04acd3a7e9c5751a6dd0763b56dc9cf4b259ada"
   }
  }
 },
 "nbformat": 4,
 "nbformat_minor": 5
}
