{
 "cells": [
  {
   "cell_type": "markdown",
   "metadata": {},
   "source": [
    "Consider a random variable X with values in:\n",
    "\n",
    "$$ A_X = \\big \\{ x_1, . . ., x_8 \\big \\} $$\n",
    "\n",
    "and probability mass function\n",
    "\n",
    "$$PX = \\bigg \\{ \\dfrac{1}{4},\\dfrac{1}{4},\\dfrac{1}{4},\\dfrac{3}{16},\\dfrac{1}{64},\\dfrac{1}{64},\\dfrac{1}{64}, \\dfrac{1}{64} \\bigg \\}$$\n",
    "\n",
    "* What is the information content of each outcome $x_i$?\n",
    "\n",
    "* What is the entropy of the distribution?\n",
    "\n",
    "* Draw a binary probability tree for X. For each node, write the corresponding envent; \n",
    "for each edge, write the corresponding conditional probability\n",
    "* Plot the essential bit content $H_{\\delta}(X)$ as a function of the error $\\delta$"
   ]
  },
  {
   "cell_type": "code",
   "execution_count": 2,
   "metadata": {},
   "outputs": [],
   "source": [
    "import numpy as np\n",
    "import matplotlib.pyplot as plt\n",
    "import matplotlib"
   ]
  },
  {
   "cell_type": "code",
   "execution_count": 3,
   "metadata": {},
   "outputs": [
    {
     "data": {
      "text/plain": [
       "1.0"
      ]
     },
     "execution_count": 3,
     "metadata": {},
     "output_type": "execute_result"
    }
   ],
   "source": [
    "np.log2(2)"
   ]
  },
  {
   "cell_type": "code",
   "execution_count": 4,
   "metadata": {},
   "outputs": [
    {
     "name": "stdout",
     "output_type": "stream",
     "text": [
      "the information content for each outcome is [2.        2.        2.        2.4150375 6.        6.        6.\n",
      " 6.       ]\n"
     ]
    }
   ],
   "source": [
    "prob = np.array([1/4, 1/4, 1/4, 3/16, 1/64, 1/64, 1/64, 1/64])\n",
    "def new_func(p):\n",
    "    return -np.log2(p)\n",
    "\n",
    "info_content = new_func(prob)\n",
    "print(\"the information content for each outcome is\",info_content)"
   ]
  },
  {
   "cell_type": "code",
   "execution_count": 5,
   "metadata": {},
   "outputs": [
    {
     "data": {
      "text/plain": [
       "1.0"
      ]
     },
     "execution_count": 5,
     "metadata": {},
     "output_type": "execute_result"
    }
   ],
   "source": [
    "#Checking if the probabilities are normalized to 1\n",
    "np.sum(prob)"
   ]
  },
  {
   "cell_type": "code",
   "execution_count": 6,
   "metadata": {},
   "outputs": [
    {
     "name": "stdout",
     "output_type": "stream",
     "text": [
      "The entropy of the distribution is: 2.3278 ± 0.4467\n"
     ]
    }
   ],
   "source": [
    "H = -np.sum(prob * np.log2(prob))\n",
    "\n",
    "err_1 = np.sqrt( np.sum( ((np.log2(np.e*prob))**2 * prob * (1 - prob))/8))\n",
    "\n",
    "print('The entropy of the distribution is: %2.4f ± %2.4f'  %(H, err_1)) "
   ]
  },
  {
   "cell_type": "code",
   "execution_count": 7,
   "metadata": {},
   "outputs": [
    {
     "name": "stdout",
     "output_type": "stream",
     "text": [
      "[0.25     0.25     0.25     0.1875   0.015625 0.015625 0.015625 0.015625]\n"
     ]
    }
   ],
   "source": [
    "print(prob)\n",
    "cum_prob = np.cumsum(prob[::-1])"
   ]
  },
  {
   "cell_type": "markdown",
   "metadata": {},
   "source": [
    "Recall that the essential bit content $H_d$ is: $ H_d = log_2 (|S_d[x]|)$, \n",
    "where $S_d$ is the set of the outcomes in which, with the increasing of $\\delta$, we are taking out the less and less probable events \\\n",
    "Cardinality is actually the length of the set"
   ]
  },
  {
   "cell_type": "code",
   "execution_count": 8,
   "metadata": {},
   "outputs": [],
   "source": [
    "delta = cum_prob\n",
    "H_d = [np.log2(len(delta) - i ) for i in range(len(delta))]"
   ]
  },
  {
   "cell_type": "code",
   "execution_count": 9,
   "metadata": {},
   "outputs": [
    {
     "data": {
      "text/plain": [
       "Text(0, 0.5, 'H_d')"
      ]
     },
     "execution_count": 9,
     "metadata": {},
     "output_type": "execute_result"
    },
    {
     "data": {
      "image/png": "[encoded data removed]",
      "text/plain": [
       "<Figure size 432x288 with 1 Axes>"
      ]
     },
     "metadata": {
      "needs_background": "light"
     },
     "output_type": "display_data"
    }
   ],
   "source": [
    "plt.step(delta,H_d)\n",
    "plt.xlabel(\"delta\",fontsize=16)\n",
    "plt.ylabel(\"H_d\",fontsize=16)"
   ]
  },
  {
   "cell_type": "code",
   "execution_count": 10,
   "metadata": {},
   "outputs": [
    {
     "data": {
      "image/png": "[encoded data removed]",
      "text/plain": [
       "<Figure size 864x576 with 1 Axes>"
      ]
     },
     "metadata": {
      "needs_background": "light"
     },
     "output_type": "display_data"
    }
   ],
   "source": [
    "fig , ax = plt.subplots(figsize=(12,8))\n",
    "\n",
    "ax.step(delta, H_d, where = 'pre', color = 'black', linewidth = 2, zorder = 2)\n",
    "ax.scatter(delta, H_d, color = 'firebrick', s = 20, zorder = 2)\n",
    "\n",
    "\n",
    "ax.set_title('Essential Bit Content $H_{\\\\delta}$ vs $\\\\delta$', fontsize = 25)    \n",
    "ax.set_xlabel('$\\\\delta$', fontsize = 20)\n",
    "ax.set_ylabel('$H_{\\\\delta}$', fontsize = 20)         \n",
    "\n",
    "ax.get_xaxis().set_major_formatter(matplotlib.ticker.ScalarFormatter())\n",
    "ax.get_yaxis().set_major_formatter(matplotlib.ticker.ScalarFormatter())\n",
    "\n",
    "ax.get_xaxis().set_minor_formatter(matplotlib.ticker.NullFormatter())\n",
    "ax.tick_params(axis='both', which='major', labelsize=15, length=15)\n",
    "ax.tick_params(axis='both', which='minor', labelsize=15, length=8)\n",
    "ax.grid(zorder = 1)\n",
    "ax.minorticks_on()"
   ]
  },
  {
   "cell_type": "markdown",
   "metadata": {},
   "source": [
    "## Second part\n",
    "\n",
    "Consider $X^{(3)} = X × X × X $ :\n",
    "\n",
    "* What is the entropy of $X^{(3)}$?\n",
    "* Plot $H_{\\delta}(X^{(3)})$ as a function of $\\delta$\n",
    "* How many binary strings we need to represent $X^{(3)}$ if we allow an error of\n",
    "1%?\n"
   ]
  },
  {
   "cell_type": "markdown",
   "metadata": {},
   "source": [
    "In totale $X^{(3)}$ contiene $8^3 = 512$ elementi, cioè 512 probabilità che sono tutte le combinazioni possibili tra i valori di prob."
   ]
  },
  {
   "cell_type": "code",
   "execution_count": 11,
   "metadata": {},
   "outputs": [
    {
     "data": {
      "text/plain": [
       "<function ndarray.flatten>"
      ]
     },
     "execution_count": 11,
     "metadata": {},
     "output_type": "execute_result"
    }
   ],
   "source": [
    "a=np.array((1,2))\n",
    "b=np.array((3,4))\n",
    "c=np.array((5,6))\n",
    "\n",
    "ab,bc,ca, = np.meshgrid(a,b,c)\n",
    "# print(ab, \"\\n then\\n\",bc, \"\\n then\\n\",ca)\n",
    "(ab*bc*ca).flatten"
   ]
  },
  {
   "cell_type": "code",
   "execution_count": 12,
   "metadata": {},
   "outputs": [
    {
     "data": {
      "text/plain": [
       "array([0.25    , 0.25    , 0.25    , 0.1875  , 0.015625, 0.015625,\n",
       "       0.015625, 0.015625])"
      ]
     },
     "execution_count": 12,
     "metadata": {},
     "output_type": "execute_result"
    }
   ],
   "source": [
    "prob"
   ]
  },
  {
   "cell_type": "code",
   "execution_count": 13,
   "metadata": {},
   "outputs": [
    {
     "name": "stdout",
     "output_type": "stream",
     "text": [
      "8\n",
      "8\n"
     ]
    },
    {
     "data": {
      "text/plain": [
       "(8, 8, 8)"
      ]
     },
     "execution_count": 13,
     "metadata": {},
     "output_type": "execute_result"
    }
   ],
   "source": [
    "x, y, z = np.meshgrid(prob, prob, prob)\n",
    "print(len(x))\n",
    "print(len(x[1]))\n",
    "#con meshgrid abbiamo creato 3 array (array di liste).\n",
    "#ogni array ha dimensione 8 (=len di prob) cioè contiene 8 liste\n",
    "#le liste contengono 8 elementi\n",
    "#è come aver costruito una matrice 8x8 \n",
    "x.shape"
   ]
  },
  {
   "cell_type": "code",
   "execution_count": 14,
   "metadata": {},
   "outputs": [
    {
     "name": "stdout",
     "output_type": "stream",
     "text": [
      "(8, 8, 8)\n"
     ]
    },
    {
     "data": {
      "text/plain": [
       "512"
      ]
     },
     "execution_count": 14,
     "metadata": {},
     "output_type": "execute_result"
    }
   ],
   "source": [
    "all_prob = x*y*z #facciamo un prodotto di matrici\n",
    "print(all_prob.shape)\n",
    "all_prob =all_prob.flatten()\n",
    "len(all_prob)"
   ]
  },
  {
   "cell_type": "code",
   "execution_count": 15,
   "metadata": {},
   "outputs": [
    {
     "name": "stdout",
     "output_type": "stream",
     "text": [
      "The Shannon Entropy of the text is:  H = 6.9835 ± 0.2547\n"
     ]
    }
   ],
   "source": [
    "H_all = -np.sum(all_prob * np.log2(all_prob))\n",
    "\n",
    "err_2 = np.sqrt( np.sum((np.log2(np.e*all_prob))**2 * all_prob * (1 - all_prob)) /512)\n",
    "\n",
    "\n",
    "print('The Shannon Entropy of the text is:  H = %2.4f ± %2.4f'  %(H_all, err_2)  )"
   ]
  },
  {
   "cell_type": "code",
   "execution_count": 16,
   "metadata": {},
   "outputs": [],
   "source": [
    "delta_all = np.cumsum(np.sort(all_prob))\n",
    " \n",
    "H_d_all = [np.log2(len(delta_all) - i ) for i in range(len(delta_all))]"
   ]
  },
  {
   "cell_type": "code",
   "execution_count": 17,
   "metadata": {},
   "outputs": [
    {
     "data": {
      "image/png": "[encoded data removed]",
      "text/plain": [
       "<Figure size 864x576 with 1 Axes>"
      ]
     },
     "metadata": {
      "needs_background": "light"
     },
     "output_type": "display_data"
    }
   ],
   "source": [
    "fig , ax = plt.subplots(figsize=(12,8))\n",
    "\n",
    "ax.step(delta_all, H_d_all, where = 'pre', color = 'black', linewidth = 2, zorder = 2)\n",
    "\n",
    "ax.set_title('Essential Bit Content $H_{\\\\delta}$ vs $\\\\delta$', fontsize = 25)    \n",
    "ax.set_xlabel('$\\\\delta$', fontsize = 20)\n",
    "ax.set_ylabel('$H_{\\\\delta}$', fontsize = 20)         \n",
    "\n",
    "ax.get_xaxis().set_major_formatter(matplotlib.ticker.ScalarFormatter())\n",
    "ax.get_yaxis().set_major_formatter(matplotlib.ticker.ScalarFormatter())\n",
    "\n",
    "ax.get_xaxis().set_minor_formatter(matplotlib.ticker.NullFormatter())\n",
    "ax.tick_params(axis='both', which='major', labelsize=15, length=15)\n",
    "ax.tick_params(axis='both', which='minor', labelsize=15, length=8)\n",
    "ax.grid(zorder = 1)\n",
    "ax.minorticks_on()"
   ]
  },
  {
   "cell_type": "markdown",
   "metadata": {},
   "source": [
    "Caso in cui $\\delta=1$%. Ci chiede il bit content del caso in cui delta è 1%, cioè il log della cardinalità di S_delta."
   ]
  },
  {
   "cell_type": "code",
   "execution_count": 25,
   "metadata": {},
   "outputs": [
    {
     "name": "stdout",
     "output_type": "stream",
     "text": [
      "If we allow an error of 1 % to represent X(3) we need 8 binary strings\n"
     ]
    }
   ],
   "source": [
    "len_S_delta = len(delta_all[delta_all < 1/100])\n",
    "bits = np.ceil(np.log2(len_S_delta))\n",
    "\n",
    "print('If we allow an error of 1 %% to represent X(3) we need %1.0f binary strings' %bits)"
   ]
  },
  {
   "cell_type": "code",
   "execution_count": null,
   "metadata": {},
   "outputs": [],
   "source": []
  }
 ],
 "metadata": {
  "kernelspec": {
   "display_name": "Python 3.9.13 64-bit (windows store)",
   "language": "python",
   "name": "python3"
  },
  "language_info": {
   "codemirror_mode": {
    "name": "ipython",
    "version": 3
   },
   "file_extension": ".py",
   "mimetype": "text/x-python",
   "name": "python",
   "nbconvert_exporter": "python",
   "pygments_lexer": "ipython3",
   "version": "3.9.13"
  },
  "orig_nbformat": 4,
  "vscode": {
   "interpreter": {
    "hash": "60560e0d6226cb5287d81368c04acd3a7e9c5751a6dd0763b56dc9cf4b259ada"
   }
  }
 },
 "nbformat": 4,
 "nbformat_minor": 2
}
